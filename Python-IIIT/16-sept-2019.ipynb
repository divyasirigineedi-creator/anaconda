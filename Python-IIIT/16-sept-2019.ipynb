{
 "cells": [
  {
   "cell_type": "markdown",
   "metadata": {},
   "source": [
    "#  Regular Expression\n",
    "#### Syntax : import re\n",
    "### Methods in Regular Expression\n",
    "* re.findall( )\n",
    "* re.search( )\n",
    "* re.match( )\n",
    "* re.sub( )\n",
    "* re.finditer( )"
   ]
  },
  {
   "cell_type": "markdown",
   "metadata": {},
   "source": [
    "- set \"[-]\"\"--> We can insert set of or group of numbers,char etc. [0-9]\n",
    "- Caret\" ^g \"-->Starts with  detects the no ^[9]\n",
    "- Doller \"$ \"--> Ends with   [9]$\n",
    "- Star \" *\"-->zero or more occurance [*9]\n",
    "- plus \"+\" -->one or more occurance [+9]\n",
    "-{ } --> Exactly the specified no of occurance {9}\n",
    "- \" | \" --> or            [0-9]{9}|[+][9][1][0-9]{9}\n",
    "- \"\\\" --> special sequence\n",
    "- A period \" .\" --> Represents a character (to detect the number of chars) py.. -->pyth\n"
   ]
  },
  {
   "cell_type": "markdown",
   "metadata": {},
   "source": [
    "### Special Sequences \"\\\"\n",
    "- \\A --> detects only string iss on beggining of string\n",
    "- \\b -->detects wherever they occur,beginning orr ending\n",
    "- \\d -->detects only forr digits (digits)\n",
    "- \\D --> detects only spaces andd characters(non digits)\n",
    "- \\s --> detects only space(whitespace)\n",
    "- \\S --> exceptt space it detects remaining alll(non_white space)\n",
    "- \\w -->alphanumeric\n",
    "- \\W -->detects space andd special chars(non alphanumeric)\n"
   ]
  },
  {
   "cell_type": "code",
   "execution_count": 1,
   "metadata": {},
   "outputs": [
    {
     "name": "stdout",
     "output_type": "stream",
     "text": [
      "['h', 'e', 'h', 'g', 'a', 'i', 'g', 'l', 'a', 'g', 'a', 'g', 'e']\n"
     ]
    }
   ],
   "source": [
    "# write a program to find the characters between \"a\" and \"l\".\n",
    "import re\n",
    "string=\"the python programming language\"\n",
    "str2= re.findall(\"[a-l]\",string)\n",
    "print(str2)"
   ]
  },
  {
   "cell_type": "code",
   "execution_count": 2,
   "metadata": {},
   "outputs": [
    {
     "name": "stdout",
     "output_type": "stream",
     "text": [
      "['1', '0', '0']\n",
      "['t', 'h', 'e', ' ', 'c', 'o', 's', 't', ' ', 'o', 'f', ' ', 's', 'i', 'x', ' ', 'a', 'p', 'p', 'l', 'e', 's', ' ', 'i', 's', ' ', ' ', 'r', 'u', 'p', 'e', 'e', 's']\n",
      "['t', 'h', 'e', 'c', 'o', 's', 't', 'o', 'f', 's', 'i', 'x', 'a', 'p', 'p', 'l', 'e', 's', 'i', 's', '1', '0', '0', 'r', 'u', 'p', 'e', 'e', 's']\n",
      "[' ', ' ', ' ', ' ', ' ', ' ', ' ']\n"
     ]
    }
   ],
   "source": [
    "import re\n",
    "string=\"the cost of six apples is 100 rupees\"\n",
    "str2=re.findall(\"\\d\",string)\n",
    "str3=re.findall(\"\\D\",string)\n",
    "str4=re.findall(\"\\S\",string)\n",
    "str5=re.findall(\"\\s\",string)\n",
    "print(str2)\n",
    "print(str3)\n",
    "print(str4)\n",
    "print(str5)\n"
   ]
  },
  {
   "cell_type": "code",
   "execution_count": 3,
   "metadata": {},
   "outputs": [
    {
     "name": "stdout",
     "output_type": "stream",
     "text": [
      "['progr']\n",
      "['progr']\n"
     ]
    }
   ],
   "source": [
    "# string which contains more than 10 characters ,print 5 characters in that string\n",
    "import re\n",
    "string=\"programming\"\n",
    "str1=re.findall(string[0:5],string)\n",
    "str2=re.findall(\"pr...\",string)\n",
    "print(str1)\n",
    "print(str2)"
   ]
  },
  {
   "cell_type": "code",
   "execution_count": 4,
   "metadata": {},
   "outputs": [
    {
     "name": "stdout",
     "output_type": "stream",
     "text": [
      "4353\n"
     ]
    },
    {
     "data": {
      "text/plain": [
       "False"
      ]
     },
     "execution_count": 4,
     "metadata": {},
     "output_type": "execute_result"
    }
   ],
   "source": [
    "# phone number validator\n",
    "import re\n",
    "def phoneNumberValidator(number):\n",
    "    p='[6-9][0-9]{9}|[+][9][1][6-9][0-9]{9}'\n",
    "    if re.match(p,str(number)):\n",
    "        return True\n",
    "    else:\n",
    "        return False\n",
    "number=int(input())\n",
    "phoneNumberValidator(number)\n"
   ]
  },
  {
   "cell_type": "code",
   "execution_count": 5,
   "metadata": {},
   "outputs": [
    {
     "name": "stdout",
     "output_type": "stream",
     "text": [
      "435\n"
     ]
    },
    {
     "data": {
      "text/plain": [
       "False"
      ]
     },
     "execution_count": 5,
     "metadata": {},
     "output_type": "execute_result"
    }
   ],
   "source": [
    "# phone number validator\n",
    "import re\n",
    "def phoneNumberValidator(number):\n",
    "    p='^[+[9][1][6-9][0-9]{9}$'\n",
    "    if re.match(p,str(number)):\n",
    "        return True\n",
    "    else:\n",
    "        return False\n",
    "number=int(input())\n",
    "phoneNumberValidator(number)\n"
   ]
  },
  {
   "cell_type": "code",
   "execution_count": 25,
   "metadata": {},
   "outputs": [
    {
     "name": "stdout",
     "output_type": "stream",
     "text": [
      ":python:programming:::language\n"
     ]
    }
   ],
   "source": [
    "# re.sub() method\n",
    "#syntax: re.sub(\"value to be remove\",\"value to add\",variable)\n",
    "#write a program to remove all white space with colon\":\"\n",
    "import re\n",
    "str1=\" python programming   language\"\n",
    "str2=re.sub('\\s',':',str1)\n",
    "print(str2)"
   ]
  },
  {
   "cell_type": "code",
   "execution_count": 26,
   "metadata": {},
   "outputs": [
    {
     "name": "stdout",
     "output_type": "stream",
     "text": [
      "pythonprogramminglanguage\n"
     ]
    }
   ],
   "source": [
    "# re.sub() method\n",
    "#syntax: re.sub(\"value to be remove\",\"value to add\",variable)\n",
    "#write a program to remove all white space with colon\":\"\n",
    "import re\n",
    "str1=\" python programming   language\"\n",
    "str2=re.sub(' ','',str1)\n",
    "print(str2)"
   ]
  },
  {
   "cell_type": "code",
   "execution_count": 39,
   "metadata": {},
   "outputs": [
    {
     "name": "stdout",
     "output_type": "stream",
     "text": [
      "divya@gmail.com\n"
     ]
    },
    {
     "data": {
      "text/plain": [
       "False"
      ]
     },
     "execution_count": 39,
     "metadata": {},
     "output_type": "execute_result"
    }
   ],
   "source": [
    "#gmail=^[a-z][a-z.0-9]{5,20}[@][0-9a-z]{3,8}.[a-z]{2,4}$\n",
    "# phone number validator\n",
    "import re\n",
    "def gmailValidator(gmail):\n",
    "    p='^[a-z][a-z.0-9]{5,20}[@][0-9a-z]{3,8}.[a-z]{2,4}|[a-z.a-z]{2,8}$'\n",
    "    if re.match(p,str(gmail)):\n",
    "        return True\n",
    "    else:\n",
    "        return False\n",
    "gmail=input()\n",
    "gmailValidator(gmail)\n"
   ]
  },
  {
   "cell_type": "code",
   "execution_count": null,
   "metadata": {},
   "outputs": [],
   "source": []
  }
 ],
 "metadata": {
  "kernelspec": {
   "display_name": "Python 3",
   "language": "python",
   "name": "python3"
  },
  "language_info": {
   "codemirror_mode": {
    "name": "ipython",
    "version": 3
   },
   "file_extension": ".py",
   "mimetype": "text/x-python",
   "name": "python",
   "nbconvert_exporter": "python",
   "pygments_lexer": "ipython3",
   "version": "3.7.3"
  }
 },
 "nbformat": 4,
 "nbformat_minor": 2
}
