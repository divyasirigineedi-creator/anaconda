{
 "cells": [
  {
   "cell_type": "markdown",
   "metadata": {},
   "source": [
    "### Heading\n",
    "## heading2\n",
    "# heading3\n",
    "* Normal text\n",
    "* ** Bold**\n",
    "* *Italic*\n",
    "* Text\n",
    "    * sublist1\n",
    "    * sublist2\n",
    " >1.Ordered list1\n",
    " >2.Ordered list2\n",
    "* `[ ]option1\n",
    "* `[x]option2\n",
    "* Ordered list\n",
    "* Ordered list2\n",
    "\n",
    "\n",
    "\\*google[link](http://google.com)\n",
    " \n",
    "I have 10 items [Google](http://google.com) than from [Yaaho](http://yaaho.com)\n",
    "\n",
    "printf(\"Hello Markdown\n",
    "\n",
    "[http://googel.com]\n",
    "\n",
    "[jupyter Logo](jupyter.png)\n",
    "<img src=\"jupyter.png\" height=\"50px\" width=\"500px\" style=\"float:left\">"
   ]
  },
  {
   "cell_type": "code",
   "execution_count": null,
   "metadata": {},
   "outputs": [],
   "source": []
  }
 ],
 "metadata": {
  "kernelspec": {
   "display_name": "Python 3",
   "language": "python",
   "name": "python3"
  },
  "language_info": {
   "codemirror_mode": {
    "name": "ipython",
    "version": 3
   },
   "file_extension": ".py",
   "mimetype": "text/x-python",
   "name": "python",
   "nbconvert_exporter": "python",
   "pygments_lexer": "ipython3",
   "version": "3.6.5"
  }
 },
 "nbformat": 4,
 "nbformat_minor": 2
}
