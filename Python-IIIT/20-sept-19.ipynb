{
 "cells": [
  {
   "cell_type": "markdown",
   "metadata": {},
   "source": [
    "# Iterators\n",
    "- Iterator is an object,implemented in for loop,comprehensions,etc\n",
    "#### Iterable objects\n",
    "- Strings,lists,sets and tuples are iterable objects\n",
    "    - methods\n",
    "    - iter() \n",
    "    - next()\n",
    "#### Example\n",
    "    - list1=[1,2,3,4,5]\n",
    "    - here \"list1\" is iterable object and elements (1,2,3,4,5) list1 iterators"
   ]
  },
  {
   "cell_type": "code",
   "execution_count": 1,
   "metadata": {},
   "outputs": [
    {
     "ename": "NameError",
     "evalue": "name 'l1' is not defined",
     "output_type": "error",
     "traceback": [
      "\u001b[1;31m---------------------------------------------------------------------------\u001b[0m",
      "\u001b[1;31mNameError\u001b[0m                                 Traceback (most recent call last)",
      "\u001b[1;32m<ipython-input-1-5a8850c7850a>\u001b[0m in \u001b[0;36m<module>\u001b[1;34m\u001b[0m\n\u001b[0;32m      1\u001b[0m \u001b[0mlist1\u001b[0m\u001b[1;33m=\u001b[0m\u001b[1;33m[\u001b[0m\u001b[1;36m1\u001b[0m\u001b[1;33m,\u001b[0m\u001b[1;36m2\u001b[0m\u001b[1;33m,\u001b[0m\u001b[1;36m3\u001b[0m\u001b[1;33m,\u001b[0m\u001b[1;36m4\u001b[0m\u001b[1;33m]\u001b[0m\u001b[1;33m\u001b[0m\u001b[1;33m\u001b[0m\u001b[0m\n\u001b[1;32m----> 2\u001b[1;33m \u001b[0ml1\u001b[0m\u001b[1;33m[\u001b[0m\u001b[1;36m0\u001b[0m\u001b[1;33m]\u001b[0m\u001b[1;33m\u001b[0m\u001b[1;33m\u001b[0m\u001b[0m\n\u001b[0m",
      "\u001b[1;31mNameError\u001b[0m: name 'l1' is not defined"
     ]
    }
   ],
   "source": [
    "list1=[1,2,3,4]\n",
    "l1[0]"
   ]
  },
  {
   "cell_type": "code",
   "execution_count": null,
   "metadata": {},
   "outputs": [],
   "source": [
    "list1=[1,2,3,4]\n",
    "iter_list1=iter(list1)\n",
    "for i in list1:\n",
    "    print(next(iter_list1))"
   ]
  },
  {
   "cell_type": "code",
   "execution_count": null,
   "metadata": {},
   "outputs": [],
   "source": [
    "str1=\"python\"\n",
    "iter_str1=iter(str1)\n",
    "for i in str1:\n",
    "    print(next(iter_str1))"
   ]
  },
  {
   "cell_type": "code",
   "execution_count": null,
   "metadata": {},
   "outputs": [],
   "source": [
    "str1=\"python\"\n",
    "iter_str1=iter(str1)\n",
    "print(next(iter_str1))\n",
    "print(next(iter_str1))\n",
    "print(next(iter_str1))\n",
    "print(next(iter_str1))\n",
    "print(next(iter_str1))\n",
    "print(next(iter_str1))\n",
    "print(next(iter_str1))   # it doesn't have any items to iterate"
   ]
  },
  {
   "cell_type": "markdown",
   "metadata": {},
   "source": [
    "### Generators\n",
    "- generators are iterators\n",
    "- generator is a function that yields(return) an iterator (at atume one value)\n",
    "### Methods\n",
    "- yield \n"
   ]
  },
  {
   "cell_type": "code",
   "execution_count": null,
   "metadata": {},
   "outputs": [],
   "source": [
    "def generators():\n",
    "    yield 'divya'\n",
    "    yield  1\n",
    "    yield 1.56\n",
    "for i in generators():\n",
    "    print(i)"
   ]
  },
  {
   "cell_type": "code",
   "execution_count": null,
   "metadata": {},
   "outputs": [],
   "source": [
    "def generator():\n",
    "    yield(i^2)\n",
    "for i in range(2,5):\n",
    "    print(i*i)"
   ]
  },
  {
   "cell_type": "code",
   "execution_count": null,
   "metadata": {},
   "outputs": [],
   "source": [
    "# Function to print square of each number until it reaches upper bound\n",
    "# using generators[ 2^2=4 ,4^2=16]\n",
    "def gen():\n",
    "    n=2\n",
    "    while True:\n",
    "        n=n**2\n",
    "        yield n\n",
    "a=gen()\n",
    "for i in range(1,5):\n",
    "    print(next(a))"
   ]
  },
  {
   "cell_type": "markdown",
   "metadata": {},
   "source": [
    "# lambda\n",
    "- lambda creates anonymous function\n",
    "- * syntax: [lambda,paramaeter1,parameter2...]\n",
    "### Advantages\n",
    "- no looping and no calling functions "
   ]
  },
  {
   "cell_type": "code",
   "execution_count": null,
   "metadata": {},
   "outputs": [],
   "source": [
    "square=lambda x:x**2\n",
    "square(4)"
   ]
  },
  {
   "cell_type": "code",
   "execution_count": null,
   "metadata": {},
   "outputs": [],
   "source": [
    "a=lambda x,y:x>y\n",
    "a(2,4)"
   ]
  },
  {
   "cell_type": "markdown",
   "metadata": {},
   "source": [
    "## Higher -Order Functions\n",
    "- it takes functions as parameters  \n",
    "### Types\n",
    "- Map\n",
    "- Filter\n",
    "- Reduce"
   ]
  },
  {
   "cell_type": "markdown",
   "metadata": {},
   "source": [
    "## Filter\n",
    "- It returns the value if it is \"True\"\n",
    "- * Syntax: filter (function,iterable)\n",
    "    - Here \"function and iterable \" are parameters of filter"
   ]
  },
  {
   "cell_type": "code",
   "execution_count": 2,
   "metadata": {},
   "outputs": [
    {
     "name": "stdout",
     "output_type": "stream",
     "text": [
      "[1, 3, 5, 7, 9]\n"
     ]
    }
   ],
   "source": [
    "def odd(o):\n",
    "    return o%2 != 0\n",
    "print(list(filter(odd,[1,2,3,4,5,6,7,8,9])))"
   ]
  },
  {
   "cell_type": "markdown",
   "metadata": {},
   "source": [
    "# Task\n",
    "### Take a list of characters,print vowels using filter function"
   ]
  },
  {
   "cell_type": "code",
   "execution_count": null,
   "metadata": {},
   "outputs": [],
   "source": [
    "def alphabets(s):\n",
    "    if('s' in 'a' or 'e' or 'o' or 'i' or 'u'):\n",
    "        return alphabets\n",
    "for i in alphabets:\n",
    "    print((filter(alphabets))\n",
    "alphabets(['a','b','c','d','e','f','g'])\n",
    "          \n"
   ]
  },
  {
   "cell_type": "code",
   "execution_count": null,
   "metadata": {},
   "outputs": [],
   "source": [
    "# task\n",
    "# Take a list of alphanumeric elements and print alphabets using isalpha method nd filter function\n",
    "print(list(filter(str.isalpha,['1','2','3','f','s'])))"
   ]
  },
  {
   "cell_type": "code",
   "execution_count": null,
   "metadata": {},
   "outputs": [],
   "source": [
    "list(filter(lambda s:len(s)>2, ['abcd','c','cup','car','divya',' ']))"
   ]
  },
  {
   "cell_type": "markdown",
   "metadata": {},
   "source": [
    "## maps()\n",
    "- * syntax: map(functions,iterable)\n"
   ]
  },
  {
   "cell_type": "code",
   "execution_count": null,
   "metadata": {},
   "outputs": [],
   "source": [
    "def add(l1,l2):\n",
    "    return l1+l2\n",
    "print(list(map(add,[1,2,3],[4,5,6]))"
   ]
  },
  {
   "cell_type": "code",
   "execution_count": null,
   "metadata": {},
   "outputs": [],
   "source": [
    "# Task\n",
    "# program to print the length of the string in a given list using map() function\n",
    "def leng(s):\n",
    "    return(len(s))\n",
    "print(tuple(map(leng,['abc','python'])))"
   ]
  },
  {
   "cell_type": "code",
   "execution_count": null,
   "metadata": {},
   "outputs": [],
   "source": [
    "import operator\n",
    "print(list(map(operator.add,[1,2,3],[11,22,44])))"
   ]
  },
  {
   "cell_type": "code",
   "execution_count": null,
   "metadata": {},
   "outputs": [],
   "source": []
  }
 ],
 "metadata": {
  "kernelspec": {
   "display_name": "Python 3",
   "language": "python",
   "name": "python3"
  },
  "language_info": {
   "codemirror_mode": {
    "name": "ipython",
    "version": 3
   },
   "file_extension": ".py",
   "mimetype": "text/x-python",
   "name": "python",
   "nbconvert_exporter": "python",
   "pygments_lexer": "ipython3",
   "version": "3.7.3"
  }
 },
 "nbformat": 4,
 "nbformat_minor": 2
}
