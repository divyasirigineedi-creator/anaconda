{
 "cells": [
  {
   "cell_type": "markdown",
   "metadata": {},
   "source": [
    "## list comprehensions using loops"
   ]
  },
  {
   "cell_type": "code",
   "execution_count": 8,
   "metadata": {},
   "outputs": [
    {
     "name": "stdout",
     "output_type": "stream",
     "text": [
      "[1, 4, 9, 16, 25, 36, 49, 64, 81, 100]\n"
     ]
    }
   ],
   "source": [
    "l=[1,2,3,4,5,6,7,8,9,10]\n",
    "l2=[]\n",
    "for i in l:\n",
    "    l2.append(i**2)\n",
    "print (l2)\n",
    "    "
   ]
  },
  {
   "cell_type": "code",
   "execution_count": 11,
   "metadata": {},
   "outputs": [
    {
     "data": {
      "text/plain": [
       "[1, 4, 9, 16, 25, 36, 49, 64, 81]"
      ]
     },
     "execution_count": 11,
     "metadata": {},
     "output_type": "execute_result"
    }
   ],
   "source": [
    "[i**2 for i in range(1,10)]"
   ]
  },
  {
   "cell_type": "code",
   "execution_count": 12,
   "metadata": {},
   "outputs": [
    {
     "data": {
      "text/plain": [
       "{1, 4, 9, 16, 25, 36, 49, 64, 81}"
      ]
     },
     "execution_count": 12,
     "metadata": {},
     "output_type": "execute_result"
    }
   ],
   "source": [
    "{i**2 for i in range(1,10)}\n"
   ]
  },
  {
   "cell_type": "code",
   "execution_count": 13,
   "metadata": {},
   "outputs": [
    {
     "data": {
      "text/plain": [
       "{1: 1, 2: 4, 3: 9, 4: 16, 5: 25, 6: 36, 7: 49, 8: 64, 9: 81}"
      ]
     },
     "execution_count": 13,
     "metadata": {},
     "output_type": "execute_result"
    }
   ],
   "source": [
    "{i:i**2 for i in range(1,10)}"
   ]
  },
  {
   "cell_type": "markdown",
   "metadata": {},
   "source": [
    "### Comprehensions\n",
    "* Shorthand for a loop"
   ]
  },
  {
   "cell_type": "markdown",
   "metadata": {},
   "source": [
    "#### Types of comprehensions\n",
    " * 1.List comprehension\n",
    "     * Syntax:[expression(condition) for item in sequence]\n",
    "     * ex:[i**2 for i in range(1,10)]\n",
    " * 2.set comprehension\n",
    "     * Syntax:{expression(condition) for item in sequence}\n",
    "     * ex:{i**2 for i in range(1,10)}\n",
    " * 3.dictionary comprehension\n",
    "     * Syntax:{key:value for item in sequence}\n",
    "     * ex:{i:i**2 for i in range(1,10)}"
   ]
  },
  {
   "cell_type": "code",
   "execution_count": 17,
   "metadata": {},
   "outputs": [
    {
     "name": "stdout",
     "output_type": "stream",
     "text": [
      "['students', 'from', 'cse', 'and', 'ece', 'branch', 'are', 'attending', 'for', 'mstp', 'classes']\n"
     ]
    }
   ],
   "source": [
    "paragraph=\"students from cse and ece branch are attending for mstp classes\"\n",
    "l=list(map(str,paragraph.split()))\n",
    "print(l)"
   ]
  },
  {
   "cell_type": "code",
   "execution_count": 19,
   "metadata": {},
   "outputs": [
    {
     "name": "stdout",
     "output_type": "stream",
     "text": [
      "['students', 'from', 'cse', 'and', 'ece', 'branch', 'are', 'attending', 'for', 'mstp', 'classes']\n"
     ]
    }
   ],
   "source": [
    "l1=[]\n",
    "for i in paragraph.split():\n",
    "    l1.append(i)\n",
    "print (l1)"
   ]
  },
  {
   "cell_type": "code",
   "execution_count": 28,
   "metadata": {},
   "outputs": [
    {
     "name": "stdout",
     "output_type": "stream",
     "text": [
      "['students', 'from', 'cse', 'and', 'ece', 'branch', 'are', 'attending', 'for', 'mstp', 'classes'] "
     ]
    }
   ],
   "source": [
    "s=list(paragraph.split())\n",
    "print (s,end=\" \")"
   ]
  },
  {
   "cell_type": "code",
   "execution_count": 43,
   "metadata": {},
   "outputs": [
    {
     "data": {
      "text/plain": [
       "[['students',\n",
       "  'from',\n",
       "  'cse',\n",
       "  'and',\n",
       "  'ece',\n",
       "  'branch',\n",
       "  'are',\n",
       "  'attending',\n",
       "  'for',\n",
       "  'mstp',\n",
       "  'classes'],\n",
       " ['students',\n",
       "  'from',\n",
       "  'cse',\n",
       "  'and',\n",
       "  'ece',\n",
       "  'branch',\n",
       "  'are',\n",
       "  'attending',\n",
       "  'for',\n",
       "  'mstp',\n",
       "  'classes'],\n",
       " ['students',\n",
       "  'from',\n",
       "  'cse',\n",
       "  'and',\n",
       "  'ece',\n",
       "  'branch',\n",
       "  'are',\n",
       "  'attending',\n",
       "  'for',\n",
       "  'mstp',\n",
       "  'classes'],\n",
       " ['students',\n",
       "  'from',\n",
       "  'cse',\n",
       "  'and',\n",
       "  'ece',\n",
       "  'branch',\n",
       "  'are',\n",
       "  'attending',\n",
       "  'for',\n",
       "  'mstp',\n",
       "  'classes'],\n",
       " ['students',\n",
       "  'from',\n",
       "  'cse',\n",
       "  'and',\n",
       "  'ece',\n",
       "  'branch',\n",
       "  'are',\n",
       "  'attending',\n",
       "  'for',\n",
       "  'mstp',\n",
       "  'classes'],\n",
       " ['students',\n",
       "  'from',\n",
       "  'cse',\n",
       "  'and',\n",
       "  'ece',\n",
       "  'branch',\n",
       "  'are',\n",
       "  'attending',\n",
       "  'for',\n",
       "  'mstp',\n",
       "  'classes'],\n",
       " ['students',\n",
       "  'from',\n",
       "  'cse',\n",
       "  'and',\n",
       "  'ece',\n",
       "  'branch',\n",
       "  'are',\n",
       "  'attending',\n",
       "  'for',\n",
       "  'mstp',\n",
       "  'classes'],\n",
       " ['students',\n",
       "  'from',\n",
       "  'cse',\n",
       "  'and',\n",
       "  'ece',\n",
       "  'branch',\n",
       "  'are',\n",
       "  'attending',\n",
       "  'for',\n",
       "  'mstp',\n",
       "  'classes'],\n",
       " ['students',\n",
       "  'from',\n",
       "  'cse',\n",
       "  'and',\n",
       "  'ece',\n",
       "  'branch',\n",
       "  'are',\n",
       "  'attending',\n",
       "  'for',\n",
       "  'mstp',\n",
       "  'classes'],\n",
       " ['students',\n",
       "  'from',\n",
       "  'cse',\n",
       "  'and',\n",
       "  'ece',\n",
       "  'branch',\n",
       "  'are',\n",
       "  'attending',\n",
       "  'for',\n",
       "  'mstp',\n",
       "  'classes'],\n",
       " ['students',\n",
       "  'from',\n",
       "  'cse',\n",
       "  'and',\n",
       "  'ece',\n",
       "  'branch',\n",
       "  'are',\n",
       "  'attending',\n",
       "  'for',\n",
       "  'mstp',\n",
       "  'classes'],\n",
       " ['students',\n",
       "  'from',\n",
       "  'cse',\n",
       "  'and',\n",
       "  'ece',\n",
       "  'branch',\n",
       "  'are',\n",
       "  'attending',\n",
       "  'for',\n",
       "  'mstp',\n",
       "  'classes'],\n",
       " ['students',\n",
       "  'from',\n",
       "  'cse',\n",
       "  'and',\n",
       "  'ece',\n",
       "  'branch',\n",
       "  'are',\n",
       "  'attending',\n",
       "  'for',\n",
       "  'mstp',\n",
       "  'classes'],\n",
       " ['students',\n",
       "  'from',\n",
       "  'cse',\n",
       "  'and',\n",
       "  'ece',\n",
       "  'branch',\n",
       "  'are',\n",
       "  'attending',\n",
       "  'for',\n",
       "  'mstp',\n",
       "  'classes'],\n",
       " ['students',\n",
       "  'from',\n",
       "  'cse',\n",
       "  'and',\n",
       "  'ece',\n",
       "  'branch',\n",
       "  'are',\n",
       "  'attending',\n",
       "  'for',\n",
       "  'mstp',\n",
       "  'classes'],\n",
       " ['students',\n",
       "  'from',\n",
       "  'cse',\n",
       "  'and',\n",
       "  'ece',\n",
       "  'branch',\n",
       "  'are',\n",
       "  'attending',\n",
       "  'for',\n",
       "  'mstp',\n",
       "  'classes'],\n",
       " ['students',\n",
       "  'from',\n",
       "  'cse',\n",
       "  'and',\n",
       "  'ece',\n",
       "  'branch',\n",
       "  'are',\n",
       "  'attending',\n",
       "  'for',\n",
       "  'mstp',\n",
       "  'classes'],\n",
       " ['students',\n",
       "  'from',\n",
       "  'cse',\n",
       "  'and',\n",
       "  'ece',\n",
       "  'branch',\n",
       "  'are',\n",
       "  'attending',\n",
       "  'for',\n",
       "  'mstp',\n",
       "  'classes'],\n",
       " ['students',\n",
       "  'from',\n",
       "  'cse',\n",
       "  'and',\n",
       "  'ece',\n",
       "  'branch',\n",
       "  'are',\n",
       "  'attending',\n",
       "  'for',\n",
       "  'mstp',\n",
       "  'classes'],\n",
       " ['students',\n",
       "  'from',\n",
       "  'cse',\n",
       "  'and',\n",
       "  'ece',\n",
       "  'branch',\n",
       "  'are',\n",
       "  'attending',\n",
       "  'for',\n",
       "  'mstp',\n",
       "  'classes'],\n",
       " ['students',\n",
       "  'from',\n",
       "  'cse',\n",
       "  'and',\n",
       "  'ece',\n",
       "  'branch',\n",
       "  'are',\n",
       "  'attending',\n",
       "  'for',\n",
       "  'mstp',\n",
       "  'classes'],\n",
       " ['students',\n",
       "  'from',\n",
       "  'cse',\n",
       "  'and',\n",
       "  'ece',\n",
       "  'branch',\n",
       "  'are',\n",
       "  'attending',\n",
       "  'for',\n",
       "  'mstp',\n",
       "  'classes'],\n",
       " ['students',\n",
       "  'from',\n",
       "  'cse',\n",
       "  'and',\n",
       "  'ece',\n",
       "  'branch',\n",
       "  'are',\n",
       "  'attending',\n",
       "  'for',\n",
       "  'mstp',\n",
       "  'classes'],\n",
       " ['students',\n",
       "  'from',\n",
       "  'cse',\n",
       "  'and',\n",
       "  'ece',\n",
       "  'branch',\n",
       "  'are',\n",
       "  'attending',\n",
       "  'for',\n",
       "  'mstp',\n",
       "  'classes'],\n",
       " ['students',\n",
       "  'from',\n",
       "  'cse',\n",
       "  'and',\n",
       "  'ece',\n",
       "  'branch',\n",
       "  'are',\n",
       "  'attending',\n",
       "  'for',\n",
       "  'mstp',\n",
       "  'classes'],\n",
       " ['students',\n",
       "  'from',\n",
       "  'cse',\n",
       "  'and',\n",
       "  'ece',\n",
       "  'branch',\n",
       "  'are',\n",
       "  'attending',\n",
       "  'for',\n",
       "  'mstp',\n",
       "  'classes'],\n",
       " ['students',\n",
       "  'from',\n",
       "  'cse',\n",
       "  'and',\n",
       "  'ece',\n",
       "  'branch',\n",
       "  'are',\n",
       "  'attending',\n",
       "  'for',\n",
       "  'mstp',\n",
       "  'classes'],\n",
       " ['students',\n",
       "  'from',\n",
       "  'cse',\n",
       "  'and',\n",
       "  'ece',\n",
       "  'branch',\n",
       "  'are',\n",
       "  'attending',\n",
       "  'for',\n",
       "  'mstp',\n",
       "  'classes'],\n",
       " ['students',\n",
       "  'from',\n",
       "  'cse',\n",
       "  'and',\n",
       "  'ece',\n",
       "  'branch',\n",
       "  'are',\n",
       "  'attending',\n",
       "  'for',\n",
       "  'mstp',\n",
       "  'classes'],\n",
       " ['students',\n",
       "  'from',\n",
       "  'cse',\n",
       "  'and',\n",
       "  'ece',\n",
       "  'branch',\n",
       "  'are',\n",
       "  'attending',\n",
       "  'for',\n",
       "  'mstp',\n",
       "  'classes'],\n",
       " ['students',\n",
       "  'from',\n",
       "  'cse',\n",
       "  'and',\n",
       "  'ece',\n",
       "  'branch',\n",
       "  'are',\n",
       "  'attending',\n",
       "  'for',\n",
       "  'mstp',\n",
       "  'classes'],\n",
       " ['students',\n",
       "  'from',\n",
       "  'cse',\n",
       "  'and',\n",
       "  'ece',\n",
       "  'branch',\n",
       "  'are',\n",
       "  'attending',\n",
       "  'for',\n",
       "  'mstp',\n",
       "  'classes'],\n",
       " ['students',\n",
       "  'from',\n",
       "  'cse',\n",
       "  'and',\n",
       "  'ece',\n",
       "  'branch',\n",
       "  'are',\n",
       "  'attending',\n",
       "  'for',\n",
       "  'mstp',\n",
       "  'classes'],\n",
       " ['students',\n",
       "  'from',\n",
       "  'cse',\n",
       "  'and',\n",
       "  'ece',\n",
       "  'branch',\n",
       "  'are',\n",
       "  'attending',\n",
       "  'for',\n",
       "  'mstp',\n",
       "  'classes'],\n",
       " ['students',\n",
       "  'from',\n",
       "  'cse',\n",
       "  'and',\n",
       "  'ece',\n",
       "  'branch',\n",
       "  'are',\n",
       "  'attending',\n",
       "  'for',\n",
       "  'mstp',\n",
       "  'classes'],\n",
       " ['students',\n",
       "  'from',\n",
       "  'cse',\n",
       "  'and',\n",
       "  'ece',\n",
       "  'branch',\n",
       "  'are',\n",
       "  'attending',\n",
       "  'for',\n",
       "  'mstp',\n",
       "  'classes'],\n",
       " ['students',\n",
       "  'from',\n",
       "  'cse',\n",
       "  'and',\n",
       "  'ece',\n",
       "  'branch',\n",
       "  'are',\n",
       "  'attending',\n",
       "  'for',\n",
       "  'mstp',\n",
       "  'classes'],\n",
       " ['students',\n",
       "  'from',\n",
       "  'cse',\n",
       "  'and',\n",
       "  'ece',\n",
       "  'branch',\n",
       "  'are',\n",
       "  'attending',\n",
       "  'for',\n",
       "  'mstp',\n",
       "  'classes'],\n",
       " ['students',\n",
       "  'from',\n",
       "  'cse',\n",
       "  'and',\n",
       "  'ece',\n",
       "  'branch',\n",
       "  'are',\n",
       "  'attending',\n",
       "  'for',\n",
       "  'mstp',\n",
       "  'classes'],\n",
       " ['students',\n",
       "  'from',\n",
       "  'cse',\n",
       "  'and',\n",
       "  'ece',\n",
       "  'branch',\n",
       "  'are',\n",
       "  'attending',\n",
       "  'for',\n",
       "  'mstp',\n",
       "  'classes'],\n",
       " ['students',\n",
       "  'from',\n",
       "  'cse',\n",
       "  'and',\n",
       "  'ece',\n",
       "  'branch',\n",
       "  'are',\n",
       "  'attending',\n",
       "  'for',\n",
       "  'mstp',\n",
       "  'classes'],\n",
       " ['students',\n",
       "  'from',\n",
       "  'cse',\n",
       "  'and',\n",
       "  'ece',\n",
       "  'branch',\n",
       "  'are',\n",
       "  'attending',\n",
       "  'for',\n",
       "  'mstp',\n",
       "  'classes'],\n",
       " ['students',\n",
       "  'from',\n",
       "  'cse',\n",
       "  'and',\n",
       "  'ece',\n",
       "  'branch',\n",
       "  'are',\n",
       "  'attending',\n",
       "  'for',\n",
       "  'mstp',\n",
       "  'classes'],\n",
       " ['students',\n",
       "  'from',\n",
       "  'cse',\n",
       "  'and',\n",
       "  'ece',\n",
       "  'branch',\n",
       "  'are',\n",
       "  'attending',\n",
       "  'for',\n",
       "  'mstp',\n",
       "  'classes'],\n",
       " ['students',\n",
       "  'from',\n",
       "  'cse',\n",
       "  'and',\n",
       "  'ece',\n",
       "  'branch',\n",
       "  'are',\n",
       "  'attending',\n",
       "  'for',\n",
       "  'mstp',\n",
       "  'classes'],\n",
       " ['students',\n",
       "  'from',\n",
       "  'cse',\n",
       "  'and',\n",
       "  'ece',\n",
       "  'branch',\n",
       "  'are',\n",
       "  'attending',\n",
       "  'for',\n",
       "  'mstp',\n",
       "  'classes'],\n",
       " ['students',\n",
       "  'from',\n",
       "  'cse',\n",
       "  'and',\n",
       "  'ece',\n",
       "  'branch',\n",
       "  'are',\n",
       "  'attending',\n",
       "  'for',\n",
       "  'mstp',\n",
       "  'classes'],\n",
       " ['students',\n",
       "  'from',\n",
       "  'cse',\n",
       "  'and',\n",
       "  'ece',\n",
       "  'branch',\n",
       "  'are',\n",
       "  'attending',\n",
       "  'for',\n",
       "  'mstp',\n",
       "  'classes'],\n",
       " ['students',\n",
       "  'from',\n",
       "  'cse',\n",
       "  'and',\n",
       "  'ece',\n",
       "  'branch',\n",
       "  'are',\n",
       "  'attending',\n",
       "  'for',\n",
       "  'mstp',\n",
       "  'classes'],\n",
       " ['students',\n",
       "  'from',\n",
       "  'cse',\n",
       "  'and',\n",
       "  'ece',\n",
       "  'branch',\n",
       "  'are',\n",
       "  'attending',\n",
       "  'for',\n",
       "  'mstp',\n",
       "  'classes'],\n",
       " ['students',\n",
       "  'from',\n",
       "  'cse',\n",
       "  'and',\n",
       "  'ece',\n",
       "  'branch',\n",
       "  'are',\n",
       "  'attending',\n",
       "  'for',\n",
       "  'mstp',\n",
       "  'classes'],\n",
       " ['students',\n",
       "  'from',\n",
       "  'cse',\n",
       "  'and',\n",
       "  'ece',\n",
       "  'branch',\n",
       "  'are',\n",
       "  'attending',\n",
       "  'for',\n",
       "  'mstp',\n",
       "  'classes'],\n",
       " ['students',\n",
       "  'from',\n",
       "  'cse',\n",
       "  'and',\n",
       "  'ece',\n",
       "  'branch',\n",
       "  'are',\n",
       "  'attending',\n",
       "  'for',\n",
       "  'mstp',\n",
       "  'classes'],\n",
       " ['students',\n",
       "  'from',\n",
       "  'cse',\n",
       "  'and',\n",
       "  'ece',\n",
       "  'branch',\n",
       "  'are',\n",
       "  'attending',\n",
       "  'for',\n",
       "  'mstp',\n",
       "  'classes'],\n",
       " ['students',\n",
       "  'from',\n",
       "  'cse',\n",
       "  'and',\n",
       "  'ece',\n",
       "  'branch',\n",
       "  'are',\n",
       "  'attending',\n",
       "  'for',\n",
       "  'mstp',\n",
       "  'classes'],\n",
       " ['students',\n",
       "  'from',\n",
       "  'cse',\n",
       "  'and',\n",
       "  'ece',\n",
       "  'branch',\n",
       "  'are',\n",
       "  'attending',\n",
       "  'for',\n",
       "  'mstp',\n",
       "  'classes'],\n",
       " ['students',\n",
       "  'from',\n",
       "  'cse',\n",
       "  'and',\n",
       "  'ece',\n",
       "  'branch',\n",
       "  'are',\n",
       "  'attending',\n",
       "  'for',\n",
       "  'mstp',\n",
       "  'classes'],\n",
       " ['students',\n",
       "  'from',\n",
       "  'cse',\n",
       "  'and',\n",
       "  'ece',\n",
       "  'branch',\n",
       "  'are',\n",
       "  'attending',\n",
       "  'for',\n",
       "  'mstp',\n",
       "  'classes'],\n",
       " ['students',\n",
       "  'from',\n",
       "  'cse',\n",
       "  'and',\n",
       "  'ece',\n",
       "  'branch',\n",
       "  'are',\n",
       "  'attending',\n",
       "  'for',\n",
       "  'mstp',\n",
       "  'classes'],\n",
       " ['students',\n",
       "  'from',\n",
       "  'cse',\n",
       "  'and',\n",
       "  'ece',\n",
       "  'branch',\n",
       "  'are',\n",
       "  'attending',\n",
       "  'for',\n",
       "  'mstp',\n",
       "  'classes'],\n",
       " ['students',\n",
       "  'from',\n",
       "  'cse',\n",
       "  'and',\n",
       "  'ece',\n",
       "  'branch',\n",
       "  'are',\n",
       "  'attending',\n",
       "  'for',\n",
       "  'mstp',\n",
       "  'classes'],\n",
       " ['students',\n",
       "  'from',\n",
       "  'cse',\n",
       "  'and',\n",
       "  'ece',\n",
       "  'branch',\n",
       "  'are',\n",
       "  'attending',\n",
       "  'for',\n",
       "  'mstp',\n",
       "  'classes'],\n",
       " ['students',\n",
       "  'from',\n",
       "  'cse',\n",
       "  'and',\n",
       "  'ece',\n",
       "  'branch',\n",
       "  'are',\n",
       "  'attending',\n",
       "  'for',\n",
       "  'mstp',\n",
       "  'classes']]"
      ]
     },
     "execution_count": 43,
     "metadata": {},
     "output_type": "execute_result"
    }
   ],
   "source": [
    "[  list(paragraph.split()) for i in paragraph]"
   ]
  },
  {
   "cell_type": "markdown",
   "metadata": {},
   "source": [
    "## using if condition"
   ]
  },
  {
   "cell_type": "code",
   "execution_count": 37,
   "metadata": {},
   "outputs": [
    {
     "name": "stdout",
     "output_type": "stream",
     "text": [
      "[2, 4, 6, 8]\n",
      "[1, 3, 5, 7, 9]\n"
     ]
    }
   ],
   "source": [
    "num=[i for i in range(1,10) if i%2==0]\n",
    "num1=[i for i in range(1,10) if i%2!=0]\n",
    "print(num)\n",
    "print(num1)"
   ]
  },
  {
   "cell_type": "code",
   "execution_count": 48,
   "metadata": {},
   "outputs": [
    {
     "name": "stdout",
     "output_type": "stream",
     "text": [
      "[1, 2, 3, 4, 5, 6, 7, 8, 9, 10]\n"
     ]
    }
   ],
   "source": [
    "num=[i for i in range(1,10+1) ]\n",
    "print(num)"
   ]
  },
  {
   "cell_type": "code",
   "execution_count": 51,
   "metadata": {},
   "outputs": [
    {
     "name": "stdout",
     "output_type": "stream",
     "text": [
      "[10, 9, 8, 7, 6, 5, 4, 3, 2, 1]\n"
     ]
    }
   ],
   "source": [
    "num=[i for i in range(10,0,-1) ]\n",
    "print(num)"
   ]
  },
  {
   "cell_type": "code",
   "execution_count": 52,
   "metadata": {},
   "outputs": [
    {
     "name": "stdout",
     "output_type": "stream",
     "text": [
      "[10, 8, 6, 4, 2]\n"
     ]
    }
   ],
   "source": [
    "num=[i for i in range(10,0,-2) ]\n",
    "print(num)"
   ]
  },
  {
   "cell_type": "code",
   "execution_count": 53,
   "metadata": {},
   "outputs": [
    {
     "name": "stdout",
     "output_type": "stream",
     "text": [
      "[10, 7, 4, 1]\n"
     ]
    }
   ],
   "source": [
    "num=[i for i in range(10,0,-3) ]\n",
    "print(num)"
   ]
  },
  {
   "cell_type": "code",
   "execution_count": 54,
   "metadata": {},
   "outputs": [
    {
     "name": "stdout",
     "output_type": "stream",
     "text": [
      "[1, 3, 5, 7, 9]\n"
     ]
    }
   ],
   "source": [
    "num=[i for i in range(1,10,2) ]\n",
    "print(num)"
   ]
  },
  {
   "cell_type": "code",
   "execution_count": 55,
   "metadata": {},
   "outputs": [
    {
     "name": "stdout",
     "output_type": "stream",
     "text": [
      "[1, 4, 7]\n"
     ]
    }
   ],
   "source": [
    "num=[i for i in range(1,10,3) ]\n",
    "print(num)"
   ]
  },
  {
   "cell_type": "code",
   "execution_count": 71,
   "metadata": {},
   "outputs": [
    {
     "name": "stdout",
     "output_type": "stream",
     "text": [
      "778\n",
      "[1, 2, 389]\n"
     ]
    }
   ],
   "source": [
    "# factors\n",
    "n=int(input())\n",
    "num=[i for i in range(1,n) if n%i==0  ]\n",
    "print(num)"
   ]
  },
  {
   "cell_type": "code",
   "execution_count": null,
   "metadata": {},
   "outputs": [],
   "source": [
    "# prime\n",
    "c=0\n",
    "num=[i for i in range(1,10) if n%i==0 c=c+1 else  c]\n",
    "\n",
    "print(num2)\n",
    "if(c==2):\n",
    "    print(\"prime\")\n",
    "else:\n",
    "    print(\"not prime\")"
   ]
  },
  {
   "cell_type": "code",
   "execution_count": null,
   "metadata": {},
   "outputs": [],
   "source": [
    "for i in range(2,4):\n",
    "    for j in range(1,11):\n",
    "        print(i*j)"
   ]
  },
  {
   "cell_type": "markdown",
   "metadata": {},
   "source": [
    "#### list comprehension using nested loops"
   ]
  },
  {
   "cell_type": "code",
   "execution_count": 102,
   "metadata": {},
   "outputs": [
    {
     "name": "stdout",
     "output_type": "stream",
     "text": [
      "[[2, 4, 6, 8, 10, 12, 14, 16, 18, 20], [3, 6, 9, 12, 15, 18, 21, 24, 27, 30]]\n"
     ]
    }
   ],
   "source": [
    "l=[[i*j for j  in range(1,11)] for i in range(2,4)]\n",
    "print(l)"
   ]
  },
  {
   "cell_type": "code",
   "execution_count": 106,
   "metadata": {},
   "outputs": [
    {
     "name": "stdout",
     "output_type": "stream",
     "text": [
      "[[2, 4, 6, 8, 10, 12, 14, 16, 18, 20], [3, 6, 9, 12, 15, 18, 21, 24, 27, 30], [4, 8, 12, 16, 20, 24, 28, 32, 36, 40], [5, 10, 15, 20, 25, 30, 35, 40, 45, 50], [6, 12, 18, 24, 30, 36, 42, 48, 54, 60], [7, 14, 21, 28, 35, 42, 49, 56, 63, 70], [8, 16, 24, 32, 40, 48, 56, 64, 72, 80]]\n"
     ]
    }
   ],
   "source": [
    "l=[[i*j for j  in range(1,11)] for i in range(2,9)]\n",
    "print(l)"
   ]
  },
  {
   "cell_type": "code",
   "execution_count": 126,
   "metadata": {},
   "outputs": [
    {
     "name": "stdout",
     "output_type": "stream",
     "text": [
      "[4, 16, 36, 64]\n"
     ]
    }
   ],
   "source": [
    "# write a program to check the even numbers in a range and print the square of even numbers\n",
    "l=[i**2 for i in range(1,10) if(i%2==0) ]\n",
    "print(l)"
   ]
  },
  {
   "cell_type": "code",
   "execution_count": 127,
   "metadata": {},
   "outputs": [
    {
     "name": "stdout",
     "output_type": "stream",
     "text": [
      "[1, 9, 25, 49, 81]\n"
     ]
    }
   ],
   "source": [
    "# write a program to check the even numbers in a range and print the square of odd numbers\n",
    "l=[i**2 for i in range(1,10) if(i%2!=0) ]\n",
    "print(l)"
   ]
  },
  {
   "cell_type": "markdown",
   "metadata": {},
   "source": [
    "#### list comprehensions using if else if"
   ]
  },
  {
   "cell_type": "code",
   "execution_count": 137,
   "metadata": {},
   "outputs": [
    {
     "name": "stdout",
     "output_type": "stream",
     "text": [
      "[1, 'a', 'b', 'a', 5, 'a', 7, 'a', 'b', 'a']\n"
     ]
    }
   ],
   "source": [
    "l1=[1,2,3,4,5,6,7,8,9,10]\n",
    "l2=[]\n",
    "for i in l1:\n",
    "    if i%2==0:\n",
    "        l2.append('a')\n",
    "    elif i%3==0:\n",
    "        l2.append('b')\n",
    "    else:\n",
    "        l2.append(i)\n",
    "print(l2)"
   ]
  },
  {
   "cell_type": "code",
   "execution_count": 143,
   "metadata": {},
   "outputs": [
    {
     "name": "stdout",
     "output_type": "stream",
     "text": [
      "[1, 'a', 'b', 'a', 5, 'a', 7, 'a', 'b', 'a']\n"
     ]
    }
   ],
   "source": [
    "l1=['a' if i%2==0  else 'b' if i%3==0 else i for i in range(1,11)]\n",
    "print(l1)"
   ]
  },
  {
   "cell_type": "code",
   "execution_count": null,
   "metadata": {},
   "outputs": [],
   "source": [
    "l1=[i**2 if i%2==0 else i**3 if i%3==0 else i for i in range(1,11)]\n",
    "print(l1)"
   ]
  },
  {
   "cell_type": "code",
   "execution_count": null,
   "metadata": {},
   "outputs": [],
   "source": []
  },
  {
   "cell_type": "code",
   "execution_count": null,
   "metadata": {},
   "outputs": [],
   "source": []
  }
 ],
 "metadata": {
  "kernelspec": {
   "display_name": "Python 3",
   "language": "python",
   "name": "python3"
  },
  "language_info": {
   "codemirror_mode": {
    "name": "ipython",
    "version": 3
   },
   "file_extension": ".py",
   "mimetype": "text/x-python",
   "name": "python",
   "nbconvert_exporter": "python",
   "pygments_lexer": "ipython3",
   "version": "3.7.3"
  }
 },
 "nbformat": 4,
 "nbformat_minor": 2
}
