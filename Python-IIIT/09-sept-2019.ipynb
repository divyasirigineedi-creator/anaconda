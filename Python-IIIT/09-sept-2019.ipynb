{
 "cells": [
  {
   "cell_type": "markdown",
   "metadata": {},
   "source": [
    "### Conditional statements\n",
    "\n",
    "\n",
    "\n",
    "1)if statements"
   ]
  },
  {
   "cell_type": "code",
   "execution_count": null,
   "metadata": {},
   "outputs": [],
   "source": [
    "marks=int(input(\"enter ur marks:\"))\n",
    "pas= 50\n",
    "distinction = 90\n"
   ]
  },
  {
   "cell_type": "code",
   "execution_count": null,
   "metadata": {},
   "outputs": [],
   "source": [
    "if marks>= distinction:\n",
    "    print (\"topper\")\n",
    "if marks>=pas and marks<=distinction:\n",
    "    print(\"passed\")\n",
    "if marks< pas:\n",
    "    print(\"failed\")"
   ]
  },
  {
   "cell_type": "code",
   "execution_count": null,
   "metadata": {},
   "outputs": [],
   "source": [
    "statement=\"The coffee is bad\"\n",
    "if 'bad' in statement:\n",
    "    print(\"bad review\")\n",
    "statement =\"the coffe is good\"\n",
    "if 'bad' in statement:\n",
    "    print(\"good review\")"
   ]
  },
  {
   "cell_type": "code",
   "execution_count": null,
   "metadata": {},
   "outputs": [],
   "source": [
    "'s'in \"DIVYA\"\n"
   ]
  },
  {
   "cell_type": "markdown",
   "metadata": {},
   "source": [
    "2)if else statement"
   ]
  },
  {
   "cell_type": "code",
   "execution_count": null,
   "metadata": {},
   "outputs": [],
   "source": [
    "if None:\n",
    "    print(\"true\")\n",
    "else:\n",
    "    print(\"false\")"
   ]
  },
  {
   "cell_type": "code",
   "execution_count": null,
   "metadata": {},
   "outputs": [],
   "source": [
    "n=int(input (\"enter a no\"))\n",
    "if(n%2==0):\n",
    "    print(\"Even\")\n",
    "else:\n",
    "    print(\"odd\")"
   ]
  },
  {
   "cell_type": "code",
   "execution_count": null,
   "metadata": {},
   "outputs": [],
   "source": [
    "n=int(input (\"enter a no\"))\n",
    "if(n%2==0):\n",
    "    print(\"Even\")\n",
    "    if(n%4==0 ):\n",
    "        print(\"divisible by 4\")\n",
    "    else:\n",
    "        print(\"not divisible by 4\")\n",
    "else:\n",
    "    if(n%3==0):\n",
    "        print(\"divisible by 3\")\n",
    "    else:\n",
    "        print(\"not divisible by 3\")"
   ]
  },
  {
   "cell_type": "code",
   "execution_count": null,
   "metadata": {},
   "outputs": [],
   "source": [
    "n=int(input(\"enter a year\"))\n",
    "if n%4==0 :\n",
    "    if n%400==0:\n",
    "        print (\"leap year\")\n",
    "else:\n",
    "    print(\"not leap\")\n",
    "    "
   ]
  },
  {
   "cell_type": "code",
   "execution_count": null,
   "metadata": {},
   "outputs": [],
   "source": [
    "#check if a number exists in given range(inclusive)\n",
    "n1=int(input(\"enter ur no\"))\n",
    "lb=50\n",
    "up=150\n",
    "if(n1 >=50 and n1<=150):\n",
    "       print(\"number is in ur range\")\n",
    "else:\n",
    "       print(\"number is out of range\")\n",
    "\n"
   ]
  },
  {
   "cell_type": "code",
   "execution_count": null,
   "metadata": {},
   "outputs": [],
   "source": [
    "#check if a number is a multiple of 10\n",
    "n=int(input(\"enter ur number\"))\n",
    "if(n%10==0):\n",
    "    print(\"no is a multiple of 10\")\n",
    "else:\n",
    "    print(\"not a multiple of 10\")\n"
   ]
  },
  {
   "cell_type": "code",
   "execution_count": null,
   "metadata": {},
   "outputs": [],
   "source": [
    "#chek if a number is  a factor of 100\n",
    "n=int(input(\"enter a no\"))\n",
    "if(100%n==0):\n",
    "    print(\"factor of 100\")\n",
    "else:\n",
    "    print(\"not factor of 100\")\n",
    "    \n"
   ]
  },
  {
   "cell_type": "code",
   "execution_count": null,
   "metadata": {},
   "outputs": [],
   "source": [
    "#check if given string is equal to a number\n",
    "num=1234\n",
    "string=\"div\"\n",
    "if str(num)==string:\n",
    "    print(\"string is equal to number\")\n",
    "else:\n",
    "    print(\"string is not equal to number\")"
   ]
  },
  {
   "cell_type": "code",
   "execution_count": null,
   "metadata": {},
   "outputs": [],
   "source": [
    "#calculate the number of nano seconds in a given year(consider leap year logic)\n",
    "n=int(input(\"enter year\"))\n",
    "if n%400==0 or (n%100!=0 and  n%4==0):\n",
    "    print(366* 24* 60* 60*(10**9))\n",
    "else:\n",
    "    print(365*24*60*60*(10**9))\n",
    "    \n"
   ]
  },
  {
   "cell_type": "code",
   "execution_count": null,
   "metadata": {},
   "outputs": [],
   "source": [
    "#elif by biggest no\n",
    "a=int(input(\"enter ur number1\"))\n",
    "b=int(input(\"enter ur number2\"))\n",
    "c=int(input(\"enter ur number3\"))\n",
    "if(a>b and a>c):\n",
    "    print(\"a is biggest\")\n",
    "elif(b>a and b>c):\n",
    "    print(\"b is biggest\")\n",
    "else:\n",
    "    print(\"c is biggest\")"
   ]
  },
  {
   "cell_type": "code",
   "execution_count": null,
   "metadata": {},
   "outputs": [],
   "source": [
    "#checking grades of a student\n",
    "marks=int(input(\"enter ur marks:\"))\n",
    "if(marks>=90):\n",
    "    print(\"distinction\")\n",
    "elif(marks>=80 and marks<90):\n",
    "    print(\"grade a\")\n",
    "elif(marks>=70 and marks<80):\n",
    "    print(\"grade b\")\n",
    "elif(marks>=60 and marks<70):\n",
    "    print(\"grade c\")\n",
    "elif(marks>=50 and marks<35):\n",
    "    print(\"grade d\")\n",
    "else:\n",
    "    print(\"failed\")"
   ]
  },
  {
   "cell_type": "code",
   "execution_count": null,
   "metadata": {},
   "outputs": [],
   "source": [
    "#take an input from keyboard\n",
    "#check the number is positive or negative or zero\n",
    "n=int(input(\"Enter ur num\"))\n",
    "if(n>0):\n",
    "    print(n is \"positive\")\n",
    "if(n<0):\n",
    "    print(n is \"negative\")\n",
    "if(n==0):\n",
    "    print(n is \"zero\")"
   ]
  },
  {
   "cell_type": "code",
   "execution_count": null,
   "metadata": {},
   "outputs": [],
   "source": []
  },
  {
   "cell_type": "code",
   "execution_count": null,
   "metadata": {},
   "outputs": [],
   "source": []
  }
 ],
 "metadata": {
  "kernelspec": {
   "display_name": "Python 3",
   "language": "python",
   "name": "python3"
  },
  "language_info": {
   "codemirror_mode": {
    "name": "ipython",
    "version": 3
   },
   "file_extension": ".py",
   "mimetype": "text/x-python",
   "name": "python",
   "nbconvert_exporter": "python",
   "pygments_lexer": "ipython3",
   "version": "3.7.3"
  }
 },
 "nbformat": 4,
 "nbformat_minor": 2
}
