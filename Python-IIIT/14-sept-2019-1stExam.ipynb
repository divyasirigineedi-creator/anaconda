{
 "cells": [
  {
   "cell_type": "markdown",
   "metadata": {},
   "source": [
    "# Exam"
   ]
  },
  {
   "cell_type": "markdown",
   "metadata": {},
   "source": [
    "  ### 1.Print 3-digits numbers Sum -  For a given list of numbers, print the sum of all 3-digit numbers.\n",
    "\n",
    "Input Format \n",
    "\n",
    "Single line containing a list of space-separated numbers.\n",
    "\n",
    "Output Format\n",
    "\n",
    "Print the sum of 3-digit numbers in the given list.\n",
    "\n",
    "Sample Input                                                                                                                           Sample Output\n",
    "\n",
    "100 200 4 100 400                                                                                                                           800\n",
    "\n",
    "\n"
   ]
  },
  {
   "cell_type": "code",
   "execution_count": null,
   "metadata": {},
   "outputs": [],
   "source": [
    "a=input().split()\n",
    "sum=0\n",
    "for i in a:\n",
    "    if len(i)==3:\n",
    "        sum=sum+int(i)\n",
    "print(sum)"
   ]
  },
  {
   "cell_type": "markdown",
   "metadata": {},
   "source": [
    "# 2.Digit reverse\n",
    "You are given a number. You need to print digits of the number in reverse order.\n",
    "\n",
    "Input Format\n",
    "\n",
    "Input is a number\n",
    "\n",
    "Out Format\n",
    "\n",
    "Print the output line by line\n",
    "\n"
   ]
  },
  {
   "cell_type": "code",
   "execution_count": null,
   "metadata": {},
   "outputs": [],
   "source": [
    "n=int(input())\n",
    "rev=str(n)\n",
    "for i in rev[::-1]:\n",
    "    print(i)"
   ]
  },
  {
   "cell_type": "markdown",
   "metadata": {},
   "source": [
    "# 3. Formatted Mobile Number \n",
    "\n",
    "You are given N mobile numbers.\n",
    "\n",
    "Print them in the standard format shown below:\n",
    "\n",
    "+91 - (XXX)-XXX-XXXX\n",
    "\n",
    "The given mobile numbers may have +91,91 or 0 written before the actual 10 digit number. Alternatively, there may not be any prefix at all.\n",
    "\n",
    "Input Format\n",
    "\n",
    "First line of input is a number which indicates how many lines of input needs to read. Next lines contains mobile numbers.\n",
    "\n",
    "Output Format\n",
    "\n",
    "Print the mobile numbers in the above format line by line.\n",
    "\n",
    "                                                                                             "
   ]
  },
  {
   "cell_type": "code",
   "execution_count": null,
   "metadata": {},
   "outputs": [],
   "source": [
    "t=int(input())\n",
    "for i in range(t):\n",
    "    phonenum=input()\n",
    "    new=phonenum[-10:]\n",
    "    last=\"+91\"+\"-('+new[:3]+')'+-'+new[3:6]+'-'+new[6:]\n",
    "    print(last)"
   ]
  },
  {
   "cell_type": "markdown",
   "metadata": {},
   "source": [
    "# 4.  String Repetition\n",
    "\n",
    "You just need to take a string and a integer as an input and repeat the string up to the count given as in integer.\n",
    "\n",
    "Input Format\n",
    "\n",
    "You will be taking a string and an integer as an input from stdin.\n",
    "\n",
    "Constraints\n",
    "\n",
    "1 <= |S| <=1000\n",
    "\n",
    "1 <= N <= 100\n",
    "\n",
    "Output Format\n",
    "\n",
    "You need to print the string."
   ]
  },
  {
   "cell_type": "code",
   "execution_count": null,
   "metadata": {},
   "outputs": [],
   "source": [
    "s=input()\n",
    "n=int(input())\n",
    "print(s*n)"
   ]
  },
  {
   "cell_type": "code",
   "execution_count": null,
   "metadata": {},
   "outputs": [],
   "source": []
  }
 ],
 "metadata": {
  "kernelspec": {
   "display_name": "Python 3",
   "language": "python",
   "name": "python3"
  },
  "language_info": {
   "codemirror_mode": {
    "name": "ipython",
    "version": 3
   },
   "file_extension": ".py",
   "mimetype": "text/x-python",
   "name": "python",
   "nbconvert_exporter": "python",
   "pygments_lexer": "ipython3",
   "version": "3.7.3"
  }
 },
 "nbformat": 4,
 "nbformat_minor": 2
}
